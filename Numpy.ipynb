{
  "nbformat": 4,
  "nbformat_minor": 0,
  "metadata": {
    "colab": {
      "name": "Numpy.ipynb",
      "provenance": []
    },
    "kernelspec": {
      "name": "python3",
      "display_name": "Python 3"
    },
    "language_info": {
      "name": "python"
    }
  },
  "cells": [
    {
      "cell_type": "markdown",
      "source": [
        "Numpy kutubxonasi "
      ],
      "metadata": {
        "id": "p3n5W2N1DvV_"
      }
    },
    {
      "cell_type": "code",
      "execution_count": 1,
      "metadata": {
        "id": "cL5dkV4YDrCz"
      },
      "outputs": [],
      "source": [
        "import numpy as np #numpy kutubxonasini chaqirib olish"
      ]
    },
    {
      "cell_type": "code",
      "source": [
        "my_list = list(range(100000)) # python list\n",
        "my_array = np.array(range(100000)) # numpy array"
      ],
      "metadata": {
        "id": "ibAk6FccEDe7"
      },
      "execution_count": 2,
      "outputs": []
    },
    {
      "cell_type": "markdown",
      "source": [
        "#array"
      ],
      "metadata": {
        "id": "PxTVJsedFedU"
      }
    },
    {
      "cell_type": "code",
      "source": [
        "data = [3.5, 4, 6, 2] # list\n",
        "arr = np.array(data) # array\n",
        "arr"
      ],
      "metadata": {
        "colab": {
          "base_uri": "https://localhost:8080/"
        },
        "id": "k1lQ3ePeEa6X",
        "outputId": "8e13c289-6464-4092-ec26-17293af4a224"
      },
      "execution_count": 4,
      "outputs": [
        {
          "output_type": "execute_result",
          "data": {
            "text/plain": [
              "array([3.5, 4. , 6. , 2. ])"
            ]
          },
          "metadata": {},
          "execution_count": 4
        }
      ]
    },
    {
      "cell_type": "markdown",
      "source": [
        "#ndim"
      ],
      "metadata": {
        "id": "V6Mo58iiFhjl"
      }
    },
    {
      "cell_type": "code",
      "source": [
        "arr.ndim # arrayning o'lchami"
      ],
      "metadata": {
        "colab": {
          "base_uri": "https://localhost:8080/"
        },
        "id": "zuzicvt1ErTA",
        "outputId": "2b3ddee1-a624-4636-b28c-868222f4b6c2"
      },
      "execution_count": 5,
      "outputs": [
        {
          "output_type": "execute_result",
          "data": {
            "text/plain": [
              "1"
            ]
          },
          "metadata": {},
          "execution_count": 5
        }
      ]
    },
    {
      "cell_type": "code",
      "source": [
        "data2 = [[1,2,3], [4,5,6]] # nested list\n",
        "arr2 = np.array(data2)\n",
        "arr2.ndim"
      ],
      "metadata": {
        "colab": {
          "base_uri": "https://localhost:8080/"
        },
        "id": "RDwUx5YmFqb4",
        "outputId": "f772ea15-1742-4f65-92c0-b327bbdf37f4"
      },
      "execution_count": 6,
      "outputs": [
        {
          "output_type": "execute_result",
          "data": {
            "text/plain": [
              "2"
            ]
          },
          "metadata": {},
          "execution_count": 6
        }
      ]
    },
    {
      "cell_type": "markdown",
      "source": [
        "#shape"
      ],
      "metadata": {
        "id": "oNKIbI02GCyD"
      }
    },
    {
      "cell_type": "code",
      "source": [
        "arr2.shape # massivning hajmi ya'ni qator va ustunlar soni (q, u)"
      ],
      "metadata": {
        "colab": {
          "base_uri": "https://localhost:8080/"
        },
        "id": "RBfiA_CoF_JJ",
        "outputId": "5843d8c9-b22a-41eb-91c0-33c2f88c08fa"
      },
      "execution_count": 7,
      "outputs": [
        {
          "output_type": "execute_result",
          "data": {
            "text/plain": [
              "(2, 3)"
            ]
          },
          "metadata": {},
          "execution_count": 7
        }
      ]
    },
    {
      "cell_type": "markdown",
      "source": [
        "#size"
      ],
      "metadata": {
        "id": "a746oNZNGdoU"
      }
    },
    {
      "cell_type": "code",
      "source": [
        "arr2.size # massivning elementlari soni"
      ],
      "metadata": {
        "colab": {
          "base_uri": "https://localhost:8080/"
        },
        "id": "uc2J1OHOGQU6",
        "outputId": "b57bb119-f7ac-4a1d-d478-c06c7cb0909c"
      },
      "execution_count": 8,
      "outputs": [
        {
          "output_type": "execute_result",
          "data": {
            "text/plain": [
              "6"
            ]
          },
          "metadata": {},
          "execution_count": 8
        }
      ]
    },
    {
      "cell_type": "markdown",
      "source": [
        "#zeros"
      ],
      "metadata": {
        "id": "jVemklYTGmR8"
      }
    },
    {
      "cell_type": "code",
      "source": [
        "arr3 = np.zeros((2,4)) # barcha elementlari 0 ga teng bo'lgan (2, 4) hajmli massiv yaratib beradi\n",
        "arr3"
      ],
      "metadata": {
        "colab": {
          "base_uri": "https://localhost:8080/"
        },
        "id": "Wc7KRgqgGjuK",
        "outputId": "f29f2935-6c79-4da5-969a-64f25e4cccd6"
      },
      "execution_count": 9,
      "outputs": [
        {
          "output_type": "execute_result",
          "data": {
            "text/plain": [
              "array([[0., 0., 0., 0.],\n",
              "       [0., 0., 0., 0.]])"
            ]
          },
          "metadata": {},
          "execution_count": 9
        }
      ]
    },
    {
      "cell_type": "markdown",
      "source": [
        "#ones"
      ],
      "metadata": {
        "id": "bzzjogITG7GB"
      }
    },
    {
      "cell_type": "code",
      "source": [
        "arr4 = np.ones((3,2)) # barcha elementlari 1 ga teng bo'lgan (3, 2) hajmli massiv yaratib beradi\n",
        "arr4"
      ],
      "metadata": {
        "colab": {
          "base_uri": "https://localhost:8080/"
        },
        "id": "31iD-sauG5F7",
        "outputId": "5353e706-15ee-45e1-fc97-73f4723344cd"
      },
      "execution_count": 10,
      "outputs": [
        {
          "output_type": "execute_result",
          "data": {
            "text/plain": [
              "array([[1., 1.],\n",
              "       [1., 1.],\n",
              "       [1., 1.]])"
            ]
          },
          "metadata": {},
          "execution_count": 10
        }
      ]
    },
    {
      "cell_type": "markdown",
      "source": [
        "#arange"
      ],
      "metadata": {
        "id": "ohCtZU9_HNww"
      }
    },
    {
      "cell_type": "code",
      "source": [
        "arr5 = np.arange(4, 40, 2) # 4 dan 40 gacha qiymatlarni 2 qadam bilan massivga joylab beradi\n",
        "arr5"
      ],
      "metadata": {
        "colab": {
          "base_uri": "https://localhost:8080/"
        },
        "id": "ijqEaU9XHLP4",
        "outputId": "396d5214-dfc3-4a9c-d8ef-2b61d8bcfbfa"
      },
      "execution_count": 11,
      "outputs": [
        {
          "output_type": "execute_result",
          "data": {
            "text/plain": [
              "array([ 4,  6,  8, 10, 12, 14, 16, 18, 20, 22, 24, 26, 28, 30, 32, 34, 36,\n",
              "       38])"
            ]
          },
          "metadata": {},
          "execution_count": 11
        }
      ]
    },
    {
      "cell_type": "markdown",
      "source": [
        "#dtype"
      ],
      "metadata": {
        "id": "jlrKdTfGHlnM"
      }
    },
    {
      "cell_type": "code",
      "source": [
        "arr2.dtype # massivning ma'lumot turini aniqlab beradi"
      ],
      "metadata": {
        "colab": {
          "base_uri": "https://localhost:8080/"
        },
        "id": "UalPbGdnHhX6",
        "outputId": "9b075564-75eb-47c3-aea7-3b58391ceec0"
      },
      "execution_count": 13,
      "outputs": [
        {
          "output_type": "execute_result",
          "data": {
            "text/plain": [
              "dtype('int64')"
            ]
          },
          "metadata": {},
          "execution_count": 13
        }
      ]
    },
    {
      "cell_type": "markdown",
      "source": [
        "#astype"
      ],
      "metadata": {
        "id": "q5yXMn9bH0W_"
      }
    },
    {
      "cell_type": "code",
      "source": [
        "int_arr = np.array([2, 5, 7, 3, 16])\n",
        "float_arr = int_arr.astype(np.float64) # int tipidan float64 tipiga o'tkazib beradi\n",
        "float_arr.dtype"
      ],
      "metadata": {
        "colab": {
          "base_uri": "https://localhost:8080/"
        },
        "id": "rxautkKtHwnp",
        "outputId": "298d8fb0-36c4-4f59-fb92-585b73fc8cad"
      },
      "execution_count": 14,
      "outputs": [
        {
          "output_type": "execute_result",
          "data": {
            "text/plain": [
              "dtype('float64')"
            ]
          },
          "metadata": {},
          "execution_count": 14
        }
      ]
    },
    {
      "cell_type": "markdown",
      "source": [
        "Indekslash va kesib olish (slicing)"
      ],
      "metadata": {
        "id": "9_gjCsnOI-eB"
      }
    },
    {
      "cell_type": "code",
      "source": [
        "arr = np.arange(10, 100, 10)\n",
        "arr[3:5] # massivning 3-dan 5-indeksigacha kesib oladi. 5-indeks kirmaydi"
      ],
      "metadata": {
        "colab": {
          "base_uri": "https://localhost:8080/"
        },
        "id": "fRUWIl24IoJM",
        "outputId": "78371380-64bc-4c1e-9c7c-288869a94c46"
      },
      "execution_count": 15,
      "outputs": [
        {
          "output_type": "execute_result",
          "data": {
            "text/plain": [
              "array([40, 50])"
            ]
          },
          "metadata": {},
          "execution_count": 15
        }
      ]
    },
    {
      "cell_type": "markdown",
      "source": [
        "#copy"
      ],
      "metadata": {
        "id": "CXmpy82BJj2U"
      }
    },
    {
      "cell_type": "code",
      "source": [
        "sliced_arr = arr[3:5].copy() # kesib olinga massivning qismini nusxasini alohida boshqa massivga o'zlashtirib olyapmiz"
      ],
      "metadata": {
        "id": "CiP52J1GJbDO"
      },
      "execution_count": 16,
      "outputs": []
    },
    {
      "cell_type": "markdown",
      "source": [
        "#slicing 2d"
      ],
      "metadata": {
        "id": "yy6T7qiSKVGZ"
      }
    },
    {
      "cell_type": "code",
      "source": [
        "arr2d = np.array([[1,2,3], [4,5,6]]) # 2 o'lchamli massiv\n",
        "arr2d[1, 1:] # 2 o'lchamli massivdan 1-qator, 1- va 2-ustunlarni qirqib olish"
      ],
      "metadata": {
        "colab": {
          "base_uri": "https://localhost:8080/"
        },
        "id": "_va8B2YdJ7iz",
        "outputId": "61b41a63-8f5c-4bab-a694-9b511738e658"
      },
      "execution_count": 17,
      "outputs": [
        {
          "output_type": "execute_result",
          "data": {
            "text/plain": [
              "array([5, 6])"
            ]
          },
          "metadata": {},
          "execution_count": 17
        }
      ]
    },
    {
      "cell_type": "markdown",
      "source": [
        "#slicing 3d"
      ],
      "metadata": {
        "id": "7e441idBLAWC"
      }
    },
    {
      "cell_type": "code",
      "source": [
        "arr3d = np.array([[[1,2,3], [4,5,6]], [[7,8,9], [10,11,12]]]) # 3 o'lchamli massiv\n",
        "arr3d[1][0, 1:] # 8 va 9 sonlarini kesib olish"
      ],
      "metadata": {
        "colab": {
          "base_uri": "https://localhost:8080/"
        },
        "id": "Q1y9FZqTK8bj",
        "outputId": "3381c57f-83b2-468d-8ab1-789de88846bc"
      },
      "execution_count": 19,
      "outputs": [
        {
          "output_type": "execute_result",
          "data": {
            "text/plain": [
              "array([8, 9])"
            ]
          },
          "metadata": {},
          "execution_count": 19
        }
      ]
    },
    {
      "cell_type": "markdown",
      "source": [
        "Boolean indekslash"
      ],
      "metadata": {
        "id": "4pKlDPsvYnGN"
      }
    },
    {
      "cell_type": "code",
      "source": [
        "names = np.array(['Ali', 'Umid', 'Otabek', 'Aziz', 'Ali', 'Nodir'])\n",
        "data = np.random.randn(6,4)\n",
        "data"
      ],
      "metadata": {
        "colab": {
          "base_uri": "https://localhost:8080/"
        },
        "id": "qd_rCbVVLVI5",
        "outputId": "4547f1fd-e2a5-4686-90e6-4e2063bb80e4"
      },
      "execution_count": 23,
      "outputs": [
        {
          "output_type": "execute_result",
          "data": {
            "text/plain": [
              "array([[-0.28897701, -0.52120235, -0.13872449, -1.89229199],\n",
              "       [-0.28329497, -0.45682998, -2.44524192,  0.10604978],\n",
              "       [ 0.20256575, -0.02716926,  0.76061159,  0.57280381],\n",
              "       [-1.82382968, -1.57023409, -2.64425713,  2.18244657],\n",
              "       [-0.5857591 , -0.5015264 , -1.58191766, -0.30340154],\n",
              "       [ 2.17526144, -0.40125367,  0.08096716,  1.96456697]])"
            ]
          },
          "metadata": {},
          "execution_count": 23
        }
      ]
    },
    {
      "cell_type": "code",
      "source": [
        "data[names=='Umid'] # Umidga tegishli ma'lumotlar"
      ],
      "metadata": {
        "colab": {
          "base_uri": "https://localhost:8080/"
        },
        "id": "-IwQdIXWZBoj",
        "outputId": "40f31b80-565e-462e-8900-04955fba9d6c"
      },
      "execution_count": 21,
      "outputs": [
        {
          "output_type": "execute_result",
          "data": {
            "text/plain": [
              "array([[-0.52920159, -0.38394441,  0.52325557,  0.12831395]])"
            ]
          },
          "metadata": {},
          "execution_count": 21
        }
      ]
    },
    {
      "cell_type": "code",
      "source": [
        "data[names=='Ali', 2:] # Aliga tegishli ma'lumotlarning 2-chi ustunidan oxirgi ustunigacha chiqaradi"
      ],
      "metadata": {
        "colab": {
          "base_uri": "https://localhost:8080/"
        },
        "id": "NhP7LDxfZHVk",
        "outputId": "7b30f04f-857a-4376-eebe-253eccca09da"
      },
      "execution_count": 24,
      "outputs": [
        {
          "output_type": "execute_result",
          "data": {
            "text/plain": [
              "array([[-0.13872449, -1.89229199],\n",
              "       [-1.58191766, -0.30340154]])"
            ]
          },
          "metadata": {},
          "execution_count": 24
        }
      ]
    },
    {
      "cell_type": "markdown",
      "source": [
        "Array o'qlarini almashtirish (Transpose)"
      ],
      "metadata": {
        "id": "Q_XK8wmsZ3LP"
      }
    },
    {
      "cell_type": "markdown",
      "source": [
        "#reshape"
      ],
      "metadata": {
        "id": "y23tMCGBaCuF"
      }
    },
    {
      "cell_type": "code",
      "source": [
        "a = np.arange(6).reshape(3, 2) # 6 gacha bo'lgan assivni (3, 2) hajmda qilib beradi\n",
        "a"
      ],
      "metadata": {
        "colab": {
          "base_uri": "https://localhost:8080/"
        },
        "id": "pYkjTttIZfNP",
        "outputId": "3a76ee05-d22e-4a4e-9d37-6309a3b033ad"
      },
      "execution_count": 25,
      "outputs": [
        {
          "output_type": "execute_result",
          "data": {
            "text/plain": [
              "array([[0, 1],\n",
              "       [2, 3],\n",
              "       [4, 5]])"
            ]
          },
          "metadata": {},
          "execution_count": 25
        }
      ]
    },
    {
      "cell_type": "markdown",
      "source": [
        "#transpose (T)"
      ],
      "metadata": {
        "id": "F70izrsoaqwy"
      }
    },
    {
      "cell_type": "code",
      "source": [
        "a.T # a massivni transpose ko'rinishini beradi"
      ],
      "metadata": {
        "colab": {
          "base_uri": "https://localhost:8080/"
        },
        "id": "xTkngzdEaffi",
        "outputId": "47f97d65-23e2-4da2-855f-ee6c4d6ab9f8"
      },
      "execution_count": 26,
      "outputs": [
        {
          "output_type": "execute_result",
          "data": {
            "text/plain": [
              "array([[0, 2, 4],\n",
              "       [1, 3, 5]])"
            ]
          },
          "metadata": {},
          "execution_count": 26
        }
      ]
    },
    {
      "cell_type": "markdown",
      "source": [
        "#swaping axes"
      ],
      "metadata": {
        "id": "kRiOYOgUa4hU"
      }
    },
    {
      "cell_type": "code",
      "source": [
        "a.swapaxes(1, 0) # a massivni transpose ko'rinishini beradi"
      ],
      "metadata": {
        "colab": {
          "base_uri": "https://localhost:8080/"
        },
        "id": "KQB6jNmWazvQ",
        "outputId": "e1cb22a3-8e11-4991-eee4-a3b021e471f3"
      },
      "execution_count": 27,
      "outputs": [
        {
          "output_type": "execute_result",
          "data": {
            "text/plain": [
              "array([[0, 2, 4],\n",
              "       [1, 3, 5]])"
            ]
          },
          "metadata": {},
          "execution_count": 27
        }
      ]
    },
    {
      "cell_type": "markdown",
      "source": [
        "#dot"
      ],
      "metadata": {
        "id": "_f9j_PqBbIcN"
      }
    },
    {
      "cell_type": "code",
      "source": [
        "np.dot(a, a.T) # transposening ishlatilishiga bir misol"
      ],
      "metadata": {
        "colab": {
          "base_uri": "https://localhost:8080/"
        },
        "id": "t3HSrbecbDmf",
        "outputId": "e0065d64-dcce-4fd7-e368-8a2adcfdbed1"
      },
      "execution_count": 28,
      "outputs": [
        {
          "output_type": "execute_result",
          "data": {
            "text/plain": [
              "array([[ 1,  3,  5],\n",
              "       [ 3, 13, 23],\n",
              "       [ 5, 23, 41]])"
            ]
          },
          "metadata": {},
          "execution_count": 28
        }
      ]
    },
    {
      "cell_type": "markdown",
      "source": [
        "Universal funksiyalar"
      ],
      "metadata": {
        "id": "qspxz7odbWOl"
      }
    },
    {
      "cell_type": "markdown",
      "source": [
        "#sqrt"
      ],
      "metadata": {
        "id": "YhBYYpk3bdbu"
      }
    },
    {
      "cell_type": "code",
      "source": [
        "arr = np.arange(10)\n",
        "np.sqrt(arr) # kvadrat ildizini hisoblaydi"
      ],
      "metadata": {
        "colab": {
          "base_uri": "https://localhost:8080/"
        },
        "id": "GQgNFay3bQHc",
        "outputId": "9d655472-1687-4200-9e93-473e6a3aa5e3"
      },
      "execution_count": 29,
      "outputs": [
        {
          "output_type": "execute_result",
          "data": {
            "text/plain": [
              "array([0.        , 1.        , 1.41421356, 1.73205081, 2.        ,\n",
              "       2.23606798, 2.44948974, 2.64575131, 2.82842712, 3.        ])"
            ]
          },
          "metadata": {},
          "execution_count": 29
        }
      ]
    },
    {
      "cell_type": "markdown",
      "source": [
        "#square"
      ],
      "metadata": {
        "id": "TtLZvWQLbojG"
      }
    },
    {
      "cell_type": "code",
      "source": [
        "np.square(arr) # kvadratini hisoblaydi"
      ],
      "metadata": {
        "colab": {
          "base_uri": "https://localhost:8080/"
        },
        "id": "gpuCgQakbnZ7",
        "outputId": "bab78ef9-e1c7-4092-85ab-dd3f4f2d0a9e"
      },
      "execution_count": 30,
      "outputs": [
        {
          "output_type": "execute_result",
          "data": {
            "text/plain": [
              "array([ 0,  1,  4,  9, 16, 25, 36, 49, 64, 81])"
            ]
          },
          "metadata": {},
          "execution_count": 30
        }
      ]
    },
    {
      "cell_type": "markdown",
      "source": [
        "#eksponenti"
      ],
      "metadata": {
        "id": "et6h9wi9b3Ua"
      }
    },
    {
      "cell_type": "code",
      "source": [
        "np.exp(arr) # eksponentini hisoblaydi"
      ],
      "metadata": {
        "colab": {
          "base_uri": "https://localhost:8080/"
        },
        "id": "tGle2LTPb03H",
        "outputId": "9243b95f-ad7e-4f1f-f013-17f0be5a4029"
      },
      "execution_count": 31,
      "outputs": [
        {
          "output_type": "execute_result",
          "data": {
            "text/plain": [
              "array([1.00000000e+00, 2.71828183e+00, 7.38905610e+00, 2.00855369e+01,\n",
              "       5.45981500e+01, 1.48413159e+02, 4.03428793e+02, 1.09663316e+03,\n",
              "       2.98095799e+03, 8.10308393e+03])"
            ]
          },
          "metadata": {},
          "execution_count": 31
        }
      ]
    },
    {
      "cell_type": "markdown",
      "source": [
        "#logarifm"
      ],
      "metadata": {
        "id": "DsKs3jqucCD6"
      }
    },
    {
      "cell_type": "code",
      "source": [
        "np.log(arr) # e asosga ko'ra logarifmni hisoblaydi"
      ],
      "metadata": {
        "colab": {
          "base_uri": "https://localhost:8080/"
        },
        "id": "-VuPG20wb-vM",
        "outputId": "b70ad6b6-f0dd-49f8-fb50-2f25ca5e3461"
      },
      "execution_count": 32,
      "outputs": [
        {
          "output_type": "stream",
          "name": "stderr",
          "text": [
            "/usr/local/lib/python3.7/dist-packages/ipykernel_launcher.py:1: RuntimeWarning: divide by zero encountered in log\n",
            "  \"\"\"Entry point for launching an IPython kernel.\n"
          ]
        },
        {
          "output_type": "execute_result",
          "data": {
            "text/plain": [
              "array([      -inf, 0.        , 0.69314718, 1.09861229, 1.38629436,\n",
              "       1.60943791, 1.79175947, 1.94591015, 2.07944154, 2.19722458])"
            ]
          },
          "metadata": {},
          "execution_count": 32
        }
      ]
    },
    {
      "cell_type": "markdown",
      "source": [
        "#modf"
      ],
      "metadata": {
        "id": "eotzQdCGcNms"
      }
    },
    {
      "cell_type": "code",
      "source": [
        "arr1 = np.array([1.4, 4.2, 9.6, 12.43, 3.09])\n",
        "q, b = np.modf(arr1) # modf sonlarni qoldiq va butun qismini alohida qilib ajratib beradi.\n",
        "print(q) # qoldiq\n",
        "print(b) # butun"
      ],
      "metadata": {
        "colab": {
          "base_uri": "https://localhost:8080/"
        },
        "id": "xwkZnPnLcJ8g",
        "outputId": "3df4d1f5-2560-4496-cfcd-dd9977c67c3c"
      },
      "execution_count": 33,
      "outputs": [
        {
          "output_type": "stream",
          "name": "stdout",
          "text": [
            "[0.4  0.2  0.6  0.43 0.09]\n",
            "[ 1.  4.  9. 12.  3.]\n"
          ]
        }
      ]
    },
    {
      "cell_type": "markdown",
      "source": [
        "#sign"
      ],
      "metadata": {
        "id": "xfAX5d5-csRs"
      }
    },
    {
      "cell_type": "code",
      "source": [
        "arr2 = np.random.randn(2, 4)\n",
        "np.sign(arr2) # massiv elementi agar manfiy bo'lsa -1, musbat bo'lsa 1 qaytaradi"
      ],
      "metadata": {
        "colab": {
          "base_uri": "https://localhost:8080/"
        },
        "id": "t8ESJ-nQcos0",
        "outputId": "2af1d769-1d89-4ac2-a77d-4083ab2a709e"
      },
      "execution_count": 38,
      "outputs": [
        {
          "output_type": "execute_result",
          "data": {
            "text/plain": [
              "array([[ 1.,  1.,  1., -1.],\n",
              "       [ 1.,  1.,  1., -1.]])"
            ]
          },
          "metadata": {},
          "execution_count": 38
        }
      ]
    },
    {
      "cell_type": "markdown",
      "source": [
        "#isnan"
      ],
      "metadata": {
        "id": "gg0bwvkddNX5"
      }
    },
    {
      "cell_type": "code",
      "source": [
        "arr2[0, 1]=np.NaN # arr2 ning 0-qator, 1-elementini NaN qiymatga o'zgartirdik\n",
        "np.isnan(arr2) # NaN qiymat bo'lsa True, aks holda Fasle qaytaradi"
      ],
      "metadata": {
        "colab": {
          "base_uri": "https://localhost:8080/"
        },
        "id": "NxMxAHusdGdK",
        "outputId": "7571e194-9837-43b1-8a06-ac538ad10179"
      },
      "execution_count": 39,
      "outputs": [
        {
          "output_type": "execute_result",
          "data": {
            "text/plain": [
              "array([[False,  True, False, False],\n",
              "       [False, False, False, False]])"
            ]
          },
          "metadata": {},
          "execution_count": 39
        }
      ]
    },
    {
      "cell_type": "markdown",
      "source": [
        "Binary funksiyalar"
      ],
      "metadata": {
        "id": "K0e85d6deIbl"
      }
    },
    {
      "cell_type": "markdown",
      "source": [
        "#add"
      ],
      "metadata": {
        "id": "HrtQGY38eMre"
      }
    },
    {
      "cell_type": "code",
      "source": [
        "arr1 = np.array([1,2,3])\n",
        "arr2 = np.array([4,5,6])\n",
        "np.add(arr1, arr2) # 2 ta massivning mos elementlarini bir-biriga qo'shadi"
      ],
      "metadata": {
        "colab": {
          "base_uri": "https://localhost:8080/"
        },
        "id": "yovdK16Ddk3D",
        "outputId": "6e31fa38-1b46-48ff-e091-58910cd33775"
      },
      "execution_count": 40,
      "outputs": [
        {
          "output_type": "execute_result",
          "data": {
            "text/plain": [
              "array([5, 7, 9])"
            ]
          },
          "metadata": {},
          "execution_count": 40
        }
      ]
    },
    {
      "cell_type": "markdown",
      "source": [
        "#multiply"
      ],
      "metadata": {
        "id": "1Iw8CU6iekZq"
      }
    },
    {
      "cell_type": "code",
      "source": [
        "np.multiply(arr1, arr2) # 2 ta massivning mos elementlarini bir-biriga ko'paytiradi"
      ],
      "metadata": {
        "colab": {
          "base_uri": "https://localhost:8080/"
        },
        "id": "cmNia48eeiYj",
        "outputId": "bafae244-1d73-46d6-c69b-17b7417b16f8"
      },
      "execution_count": 41,
      "outputs": [
        {
          "output_type": "execute_result",
          "data": {
            "text/plain": [
              "array([ 4, 10, 18])"
            ]
          },
          "metadata": {},
          "execution_count": 41
        }
      ]
    },
    {
      "cell_type": "markdown",
      "source": [
        "#maximum"
      ],
      "metadata": {
        "id": "2E7cw3cYe030"
      }
    },
    {
      "cell_type": "code",
      "source": [
        "arr1 = np.array([23, 12, 67, 41])\n",
        "arr2 = np.array([11, 22, 34, 98])\n",
        "np.maximum(arr1, arr2) # 2 ta massivning mos elementlarini solishtiradi va kattasini oladi"
      ],
      "metadata": {
        "colab": {
          "base_uri": "https://localhost:8080/"
        },
        "id": "r-x9j27lewxM",
        "outputId": "43400d69-6ac2-476b-e746-1b5d570c54f0"
      },
      "execution_count": 42,
      "outputs": [
        {
          "output_type": "execute_result",
          "data": {
            "text/plain": [
              "array([23, 22, 67, 98])"
            ]
          },
          "metadata": {},
          "execution_count": 42
        }
      ]
    },
    {
      "cell_type": "markdown",
      "source": [
        "Mantiqiy shart operatori"
      ],
      "metadata": {
        "id": "ahaIiz-nfYpw"
      }
    },
    {
      "cell_type": "markdown",
      "source": [
        "#where"
      ],
      "metadata": {
        "id": "x79dG0Suf-eH"
      }
    },
    {
      "cell_type": "code",
      "source": [
        "from numpy.core.multiarray import result_type\n",
        "# Massivlar\n",
        "xarr = np.array([1.1, 1.2, 1.3, 1.4, 1.5])\n",
        "yarr = np.array([2.1, 2.2, 2.3, 2.4, 2.5])\n",
        "# Shart\n",
        "cond = np.array([True, False, True, True, False])\n",
        "#where\n",
        "result = np.where(cond, xarr, yarr) # agar shart True bo'lsa xarr elementini oladi, False bo'lsa yarr elementini oladi\n",
        "result"
      ],
      "metadata": {
        "colab": {
          "base_uri": "https://localhost:8080/"
        },
        "id": "OiuaNp__fRzo",
        "outputId": "ac291dda-b4d2-4d43-9b59-454eb11ab333"
      },
      "execution_count": 44,
      "outputs": [
        {
          "output_type": "execute_result",
          "data": {
            "text/plain": [
              "array([1.1, 2.2, 1.3, 1.4, 2.5])"
            ]
          },
          "metadata": {},
          "execution_count": 44
        }
      ]
    },
    {
      "cell_type": "code",
      "source": [
        "arr = np.random.randn(4,4)\n",
        "results = np.where(arr<0, -2, 2)\n",
        "results"
      ],
      "metadata": {
        "colab": {
          "base_uri": "https://localhost:8080/"
        },
        "id": "qEMCH8s0gSoW",
        "outputId": "6b04a85f-4707-4059-dc76-39bc91aee094"
      },
      "execution_count": 45,
      "outputs": [
        {
          "output_type": "execute_result",
          "data": {
            "text/plain": [
              "array([[ 2,  2, -2,  2],\n",
              "       [ 2,  2,  2,  2],\n",
              "       [ 2, -2, -2, -2],\n",
              "       [-2,  2, -2,  2]])"
            ]
          },
          "metadata": {},
          "execution_count": 45
        }
      ]
    },
    {
      "cell_type": "markdown",
      "source": [
        "Matematik va statistik usullarni qo'llash"
      ],
      "metadata": {
        "id": "gh-HCPm2hJ_2"
      }
    },
    {
      "cell_type": "markdown",
      "source": [
        "#sum"
      ],
      "metadata": {
        "id": "DFYD7fQqhXc0"
      }
    },
    {
      "cell_type": "code",
      "source": [
        "arr = np.random.randn(5, 4)\n",
        "arr.sum() # massiv elementlari yig'indisi\n",
        "np.sum(arr) # massiv elementlari yig'indisi"
      ],
      "metadata": {
        "colab": {
          "base_uri": "https://localhost:8080/"
        },
        "id": "JG4U7-L5g6qa",
        "outputId": "7c3cc08f-25de-452d-950a-b38a863a6ad7"
      },
      "execution_count": 46,
      "outputs": [
        {
          "output_type": "execute_result",
          "data": {
            "text/plain": [
              "-10.4870379007176"
            ]
          },
          "metadata": {},
          "execution_count": 46
        }
      ]
    },
    {
      "cell_type": "code",
      "source": [
        "arr.sum(axis=0) # har bir qatorning ustunlari yig'indisi"
      ],
      "metadata": {
        "colab": {
          "base_uri": "https://localhost:8080/"
        },
        "id": "9blcZK4yhtiH",
        "outputId": "d8b32ff5-fe9f-446d-f610-294bfc462ff6"
      },
      "execution_count": 47,
      "outputs": [
        {
          "output_type": "execute_result",
          "data": {
            "text/plain": [
              "array([-2.37714431, -4.97184913, -1.27427221, -1.86377225])"
            ]
          },
          "metadata": {},
          "execution_count": 47
        }
      ]
    },
    {
      "cell_type": "code",
      "source": [
        "arr.sum(axis=1) # har bir ustunning qatorlari yig'indisi"
      ],
      "metadata": {
        "colab": {
          "base_uri": "https://localhost:8080/"
        },
        "id": "oOHLxsoxh4zO",
        "outputId": "d69002ec-3030-4aab-cfb5-8427a9f956e7"
      },
      "execution_count": 48,
      "outputs": [
        {
          "output_type": "execute_result",
          "data": {
            "text/plain": [
              "array([-1.00859081, -2.68655672, -1.43165604, -3.9210316 , -1.43920274])"
            ]
          },
          "metadata": {},
          "execution_count": 48
        }
      ]
    },
    {
      "cell_type": "markdown",
      "source": [
        "#mean"
      ],
      "metadata": {
        "id": "8YocNJVOiCN_"
      }
    },
    {
      "cell_type": "code",
      "source": [
        "arr.mean() # massiv elementlarining o'rtacha qiymati"
      ],
      "metadata": {
        "colab": {
          "base_uri": "https://localhost:8080/"
        },
        "id": "fz7qERMch_wm",
        "outputId": "7fd3babe-82a9-472a-a444-5904d52be1a8"
      },
      "execution_count": 50,
      "outputs": [
        {
          "output_type": "execute_result",
          "data": {
            "text/plain": [
              "-0.52435189503588"
            ]
          },
          "metadata": {},
          "execution_count": 50
        }
      ]
    },
    {
      "cell_type": "code",
      "source": [
        "np.mean(arr) # bu ham massiv elementlarining o'rtacha qiymati"
      ],
      "metadata": {
        "colab": {
          "base_uri": "https://localhost:8080/"
        },
        "id": "5xZSNdnGieCN",
        "outputId": "08388336-5cf8-42b0-935a-26489ab86229"
      },
      "execution_count": 51,
      "outputs": [
        {
          "output_type": "execute_result",
          "data": {
            "text/plain": [
              "-0.52435189503588"
            ]
          },
          "metadata": {},
          "execution_count": 51
        }
      ]
    },
    {
      "cell_type": "code",
      "source": [
        "arr.mean(axis=0) # har bir ustunning o'rtacha qiymati"
      ],
      "metadata": {
        "colab": {
          "base_uri": "https://localhost:8080/"
        },
        "id": "ZF0Zl78KihBo",
        "outputId": "39026a4c-a791-493e-ac76-391ab6f473f1"
      },
      "execution_count": 55,
      "outputs": [
        {
          "output_type": "execute_result",
          "data": {
            "text/plain": [
              "array([-0.47542886, -0.99436983, -0.25485444, -0.37275445])"
            ]
          },
          "metadata": {},
          "execution_count": 55
        }
      ]
    },
    {
      "cell_type": "code",
      "source": [
        "arr.mean(axis=1) # har bir qatorning o'rtacha qiymati"
      ],
      "metadata": {
        "colab": {
          "base_uri": "https://localhost:8080/"
        },
        "id": "HCboz-MLi04v",
        "outputId": "51e9d3f0-604d-4323-e567-42b559fdb34f"
      },
      "execution_count": 56,
      "outputs": [
        {
          "output_type": "execute_result",
          "data": {
            "text/plain": [
              "array([-0.2521477 , -0.67163918, -0.35791401, -0.9802579 , -0.35980068])"
            ]
          },
          "metadata": {},
          "execution_count": 56
        }
      ]
    },
    {
      "cell_type": "markdown",
      "source": [
        "#cumsum"
      ],
      "metadata": {
        "id": "AhU8AKLWjfRy"
      }
    },
    {
      "cell_type": "code",
      "source": [
        "data = np.arange(6)\n",
        "data.cumsum() # bu cumulative sum ya'ni o'zigacha bo'lgan sonlarni yig'indisi"
      ],
      "metadata": {
        "colab": {
          "base_uri": "https://localhost:8080/"
        },
        "id": "h3-MU5TTjFvE",
        "outputId": "e5eb5794-19c5-49a8-fd3f-379b7409e642"
      },
      "execution_count": 57,
      "outputs": [
        {
          "output_type": "execute_result",
          "data": {
            "text/plain": [
              "array([ 0,  1,  3,  6, 10, 15])"
            ]
          },
          "metadata": {},
          "execution_count": 57
        }
      ]
    },
    {
      "cell_type": "markdown",
      "source": [
        "Tartiblash (Sorting)"
      ],
      "metadata": {
        "id": "lLtfYeR8j9VQ"
      }
    },
    {
      "cell_type": "markdown",
      "source": [
        "#sort"
      ],
      "metadata": {
        "id": "3MIZQODMkClE"
      }
    },
    {
      "cell_type": "code",
      "source": [
        "# 1-usul\n",
        "arr = np.array([23, 12, 4, 3, 17, 9]) # tartiblanmagan array\n",
        "sorted_arr = np.sort(arr) # tartiblangan array\n",
        "sorted_arr"
      ],
      "metadata": {
        "colab": {
          "base_uri": "https://localhost:8080/"
        },
        "id": "2c0pKebxjxOr",
        "outputId": "102a94f4-0113-4d37-a51f-037f917edb73"
      },
      "execution_count": 58,
      "outputs": [
        {
          "output_type": "execute_result",
          "data": {
            "text/plain": [
              "array([ 3,  4,  9, 12, 17, 23])"
            ]
          },
          "metadata": {},
          "execution_count": 58
        }
      ]
    },
    {
      "cell_type": "code",
      "source": [
        "# 2-usul\n",
        "arr.sort() # massivni tartiblab yana o'ziga o'zlashtiradi\n",
        "arr"
      ],
      "metadata": {
        "colab": {
          "base_uri": "https://localhost:8080/"
        },
        "id": "7RIwjyF3kW7M",
        "outputId": "1dce8c1b-4fe1-4848-92e1-791d969f2d5f"
      },
      "execution_count": 59,
      "outputs": [
        {
          "output_type": "execute_result",
          "data": {
            "text/plain": [
              "array([ 3,  4,  9, 12, 17, 23])"
            ]
          },
          "metadata": {},
          "execution_count": 59
        }
      ]
    },
    {
      "cell_type": "code",
      "source": [
        "# teskari tartiblash\n",
        "rev_arr = -np.sort(-arr)\n",
        "rev_arr"
      ],
      "metadata": {
        "colab": {
          "base_uri": "https://localhost:8080/"
        },
        "id": "4d0okeJDklen",
        "outputId": "f9378f14-1478-4544-b2ea-af2932b72143"
      },
      "execution_count": 61,
      "outputs": [
        {
          "output_type": "execute_result",
          "data": {
            "text/plain": [
              "array([23, 17, 12,  9,  4,  3])"
            ]
          },
          "metadata": {},
          "execution_count": 61
        }
      ]
    },
    {
      "cell_type": "markdown",
      "source": [
        "#sort 2d"
      ],
      "metadata": {
        "id": "gX51af8RlNiF"
      }
    },
    {
      "cell_type": "code",
      "source": [
        "arr2d = np.random.randn(2,4)\n",
        "arr2d"
      ],
      "metadata": {
        "colab": {
          "base_uri": "https://localhost:8080/"
        },
        "id": "Z6uu3jvilCZn",
        "outputId": "ac80b68d-9747-4711-9c0a-478f885103ea"
      },
      "execution_count": 67,
      "outputs": [
        {
          "output_type": "execute_result",
          "data": {
            "text/plain": [
              "array([[ 0.89884929, -0.05148628, -1.47396789, -1.80488591],\n",
              "       [ 0.700325  , -2.14530228, -0.57821241, -1.00848577]])"
            ]
          },
          "metadata": {},
          "execution_count": 67
        }
      ]
    },
    {
      "cell_type": "code",
      "source": [
        "row_arr = np.sort(arr2d, axis=0) # har bir ustunni tartiblaydi\n",
        "row_arr"
      ],
      "metadata": {
        "colab": {
          "base_uri": "https://localhost:8080/"
        },
        "id": "qILJyOEilhYm",
        "outputId": "6a93773b-ce45-47d7-c78a-71c1c4525efe"
      },
      "execution_count": 69,
      "outputs": [
        {
          "output_type": "execute_result",
          "data": {
            "text/plain": [
              "array([[ 0.700325  , -2.14530228, -1.47396789, -1.80488591],\n",
              "       [ 0.89884929, -0.05148628, -0.57821241, -1.00848577]])"
            ]
          },
          "metadata": {},
          "execution_count": 69
        }
      ]
    },
    {
      "cell_type": "code",
      "source": [
        "col_arr = np.sort(arr2d, axis=1) # har bir qatorini tartiblaydi\n",
        "col_arr"
      ],
      "metadata": {
        "colab": {
          "base_uri": "https://localhost:8080/"
        },
        "id": "TO9u_3C6l-8K",
        "outputId": "86ccea8a-6593-4391-edb0-f5a36a2626e3"
      },
      "execution_count": 70,
      "outputs": [
        {
          "output_type": "execute_result",
          "data": {
            "text/plain": [
              "array([[-2.14530228, -1.80488591, -1.47396789,  0.700325  ],\n",
              "       [-1.00848577, -0.57821241, -0.05148628,  0.89884929]])"
            ]
          },
          "metadata": {},
          "execution_count": 70
        }
      ]
    },
    {
      "cell_type": "markdown",
      "source": [
        "Takrorlanmas va boshqa amallar"
      ],
      "metadata": {
        "id": "tOSdl4Dsmccr"
      }
    },
    {
      "cell_type": "markdown",
      "source": [
        "#unique"
      ],
      "metadata": {
        "id": "vwqj5yjSmhnV"
      }
    },
    {
      "cell_type": "code",
      "source": [
        "names = np.array(['Ali', 'Hasan', 'Zokir', 'Ali', 'Husan', 'Hasan', 'Umid'])\n",
        "np.unique(names) # faqat takrorlanmas, takrorlansa ham faqat bittasini qaytaradi"
      ],
      "metadata": {
        "colab": {
          "base_uri": "https://localhost:8080/"
        },
        "id": "1TofPDrlmPG6",
        "outputId": "32cf9e2f-ef61-4e9f-acbc-cbb53b008162"
      },
      "execution_count": 71,
      "outputs": [
        {
          "output_type": "execute_result",
          "data": {
            "text/plain": [
              "array(['Ali', 'Hasan', 'Husan', 'Umid', 'Zokir'], dtype='<U5')"
            ]
          },
          "metadata": {},
          "execution_count": 71
        }
      ]
    },
    {
      "cell_type": "markdown",
      "source": [
        "#in1d"
      ],
      "metadata": {
        "id": "nKc9y1hfnL4G"
      }
    },
    {
      "cell_type": "code",
      "source": [
        "arr1 = np.array([2, 5, 3, 9, 0, 4])\n",
        "arr2 = np.array([4, 9, 12, 8])\n",
        "np.in1d(arr1, arr2) # arr1 lementlari arr2 elementlari ichida bo'lsa True, aks holda False qaytaradi"
      ],
      "metadata": {
        "colab": {
          "base_uri": "https://localhost:8080/"
        },
        "id": "iWD5HHtqm4MH",
        "outputId": "46d2176a-6050-48e0-99db-0ae938d9c27c"
      },
      "execution_count": 72,
      "outputs": [
        {
          "output_type": "execute_result",
          "data": {
            "text/plain": [
              "array([False, False, False,  True, False,  True])"
            ]
          },
          "metadata": {},
          "execution_count": 72
        }
      ]
    },
    {
      "cell_type": "markdown",
      "source": [
        "#setdiff1d"
      ],
      "metadata": {
        "id": "PbIEjg2boUqJ"
      }
    },
    {
      "cell_type": "code",
      "source": [
        "np.setdiff1d(arr1, arr2) # 2 tammasivni taqqoslaydi va arr1 elementlarida arr2 elementlari mavjud bo'lmagan qiymatlarni qaytaradi"
      ],
      "metadata": {
        "colab": {
          "base_uri": "https://localhost:8080/"
        },
        "id": "WuUvoK3VoPRN",
        "outputId": "2048af3d-bd7b-48bd-c45f-887d2b4cc8a1"
      },
      "execution_count": 73,
      "outputs": [
        {
          "output_type": "execute_result",
          "data": {
            "text/plain": [
              "array([0, 2, 3, 5])"
            ]
          },
          "metadata": {},
          "execution_count": 73
        }
      ]
    },
    {
      "cell_type": "markdown",
      "source": [
        "Fayllar bilan ishlash"
      ],
      "metadata": {
        "id": "AZhxu083ozHp"
      }
    },
    {
      "cell_type": "markdown",
      "source": [
        "#save"
      ],
      "metadata": {
        "id": "w-M6eWPio3M2"
      }
    },
    {
      "cell_type": "code",
      "source": [
        "arr = np.arange(10)\n",
        "np.save('data', arr) # data nomli fayl yaratib shunga arr ni saqlash\n",
        "np.load('data.npy') # data nomli faylni o'qish\n",
        "arr2 = np.load('data.npy') # o'zgaruvchiga yuklash"
      ],
      "metadata": {
        "id": "YeaT-Xm_or6Y"
      },
      "execution_count": 74,
      "outputs": []
    },
    {
      "cell_type": "markdown",
      "source": [
        "#savez"
      ],
      "metadata": {
        "id": "tZs2iJmfpWft"
      }
    },
    {
      "cell_type": "code",
      "source": [
        "arr1 = np.arange(20)\n",
        "np.savez('arrays', a=arr, b=arr1) # arrays fayliga arr, arr1 massivlarini saqlash"
      ],
      "metadata": {
        "id": "2Wy8MiKvpT6e"
      },
      "execution_count": 75,
      "outputs": []
    },
    {
      "cell_type": "code",
      "source": [
        "arrays = np.load('arrays.npz') # fayldan o'qib, o'zgaruvchiga saqlash\n"
      ],
      "metadata": {
        "id": "ziFAg4u4pypy"
      },
      "execution_count": 80,
      "outputs": []
    },
    {
      "cell_type": "code",
      "source": [
        "arrays['a'] # arr ni o'qish "
      ],
      "metadata": {
        "colab": {
          "base_uri": "https://localhost:8080/"
        },
        "id": "sJe2-lUhqCLJ",
        "outputId": "1661f311-1cfc-4bac-b18a-586a4d625637"
      },
      "execution_count": 81,
      "outputs": [
        {
          "output_type": "execute_result",
          "data": {
            "text/plain": [
              "array([0, 1, 2, 3, 4, 5, 6, 7, 8, 9])"
            ]
          },
          "metadata": {},
          "execution_count": 81
        }
      ]
    },
    {
      "cell_type": "markdown",
      "source": [
        "#savez_compressed"
      ],
      "metadata": {
        "id": "xGFF6DQvqlK0"
      }
    },
    {
      "cell_type": "code",
      "source": [
        "np.savez_compressed('array.comp.npz', a=arr, b=arr1) # siqilgan holda saqlash"
      ],
      "metadata": {
        "id": "Zh5WqqH8qNhX"
      },
      "execution_count": 82,
      "outputs": []
    },
    {
      "cell_type": "code",
      "source": [
        ""
      ],
      "metadata": {
        "id": "oe7qja-kq0Tv"
      },
      "execution_count": null,
      "outputs": []
    }
  ]
}